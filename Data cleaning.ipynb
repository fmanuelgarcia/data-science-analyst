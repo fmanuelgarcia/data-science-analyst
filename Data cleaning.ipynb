{
 "cells": [
  {
   "cell_type": "markdown",
   "source": "# Data cleaning",
   "metadata": {
    "tags": [],
    "cell_id": "00000-3bea5819-ec3b-4646-bf7a-4aba59b25405",
    "deepnote_cell_type": "markdown"
   }
  },
  {
   "cell_type": "code",
   "metadata": {
    "tags": [],
    "cell_id": "00001-23728708-9ca4-4658-9aea-7a0ec70bff24",
    "deepnote_to_be_reexecuted": false,
    "source_hash": "24b26b86",
    "execution_start": 1624214352350,
    "execution_millis": 1102,
    "deepnote_cell_type": "code"
   },
   "source": "import pandas as pd\nimport numpy as np\nimport matplotlib.pyplot as plt\nimport seaborn as sns",
   "execution_count": null,
   "outputs": []
  },
  {
   "cell_type": "code",
   "metadata": {
    "tags": [],
    "cell_id": "00002-79300049-fb05-47c6-a4da-129d10298064",
    "deepnote_to_be_reexecuted": false,
    "source_hash": "5e47bb58",
    "execution_start": 1624214357596,
    "execution_millis": 107,
    "deepnote_cell_type": "code"
   },
   "source": "df = pd.read_csv('raw_data.csv')",
   "execution_count": null,
   "outputs": []
  },
  {
   "cell_type": "code",
   "metadata": {
    "tags": [],
    "cell_id": "00003-ede02e4c-175a-404b-9aa7-cb9a35b3c8e5",
    "deepnote_to_be_reexecuted": false,
    "source_hash": "c085b6ba",
    "execution_start": 1624214364116,
    "execution_millis": 26,
    "deepnote_cell_type": "code"
   },
   "source": "df.head()",
   "execution_count": null,
   "outputs": [
    {
     "output_type": "execute_result",
     "execution_count": 4,
     "data": {
      "application/vnd.deepnote.dataframe.v2+json": {
       "row_count": 5,
       "column_count": 16,
       "columns": [
        {
         "name": "cliente",
         "dtype": "int64",
         "stats": {
          "unique_count": 1,
          "nan_count": 0,
          "min": "1",
          "max": "1",
          "histogram": [
           {
            "bin_start": 0.5,
            "bin_end": 0.6,
            "count": 0
           },
           {
            "bin_start": 0.6,
            "bin_end": 0.7,
            "count": 0
           },
           {
            "bin_start": 0.7,
            "bin_end": 0.8,
            "count": 0
           },
           {
            "bin_start": 0.8,
            "bin_end": 0.9,
            "count": 0
           },
           {
            "bin_start": 0.9,
            "bin_end": 1,
            "count": 0
           },
           {
            "bin_start": 1,
            "bin_end": 1.1,
            "count": 5
           },
           {
            "bin_start": 1.1,
            "bin_end": 1.2000000000000002,
            "count": 0
           },
           {
            "bin_start": 1.2000000000000002,
            "bin_end": 1.3,
            "count": 0
           },
           {
            "bin_start": 1.3,
            "bin_end": 1.4,
            "count": 0
           },
           {
            "bin_start": 1.4,
            "bin_end": 1.5,
            "count": 0
           }
          ]
         }
        },
        {
         "name": "condi_pago",
         "dtype": "int64",
         "stats": {
          "unique_count": 1,
          "nan_count": 0,
          "min": "30",
          "max": "30",
          "histogram": [
           {
            "bin_start": 29.5,
            "bin_end": 29.6,
            "count": 0
           },
           {
            "bin_start": 29.6,
            "bin_end": 29.7,
            "count": 0
           },
           {
            "bin_start": 29.7,
            "bin_end": 29.8,
            "count": 0
           },
           {
            "bin_start": 29.8,
            "bin_end": 29.9,
            "count": 0
           },
           {
            "bin_start": 29.9,
            "bin_end": 30,
            "count": 0
           },
           {
            "bin_start": 30,
            "bin_end": 30.1,
            "count": 5
           },
           {
            "bin_start": 30.1,
            "bin_end": 30.2,
            "count": 0
           },
           {
            "bin_start": 30.2,
            "bin_end": 30.3,
            "count": 0
           },
           {
            "bin_start": 30.3,
            "bin_end": 30.4,
            "count": 0
           },
           {
            "bin_start": 30.4,
            "bin_end": 30.5,
            "count": 0
           }
          ]
         }
        },
        {
         "name": "codigo_fact",
         "dtype": "int64",
         "stats": {
          "unique_count": 5,
          "nan_count": 0,
          "min": "403010687",
          "max": "710001382",
          "histogram": [
           {
            "bin_start": 403010687,
            "bin_end": 433709756.5,
            "count": 3
           },
           {
            "bin_start": 433709756.5,
            "bin_end": 464408826,
            "count": 0
           },
           {
            "bin_start": 464408826,
            "bin_end": 495107895.5,
            "count": 0
           },
           {
            "bin_start": 495107895.5,
            "bin_end": 525806965,
            "count": 0
           },
           {
            "bin_start": 525806965,
            "bin_end": 556506034.5,
            "count": 0
           },
           {
            "bin_start": 556506034.5,
            "bin_end": 587205104,
            "count": 0
           },
           {
            "bin_start": 587205104,
            "bin_end": 617904173.5,
            "count": 0
           },
           {
            "bin_start": 617904173.5,
            "bin_end": 648603243,
            "count": 0
           },
           {
            "bin_start": 648603243,
            "bin_end": 679302312.5,
            "count": 0
           },
           {
            "bin_start": 679302312.5,
            "bin_end": 710001382,
            "count": 2
           }
          ]
         }
        },
        {
         "name": "clase_fact",
         "dtype": "object",
         "stats": {
          "unique_count": 2,
          "nan_count": 0,
          "categories": [
           {
            "name": "RV",
            "count": 3
           },
           {
            "name": "RW",
            "count": 2
           }
          ]
         }
        },
        {
         "name": "f_emision",
         "dtype": "object",
         "stats": {
          "unique_count": 2,
          "nan_count": 0,
          "categories": [
           {
            "name": "2020-12-16",
            "count": 4
           },
           {
            "name": "2020-08-13",
            "count": 1
           }
          ]
         }
        },
        {
         "name": "f_vencimento",
         "dtype": "object",
         "stats": {
          "unique_count": 2,
          "nan_count": 0,
          "categories": [
           {
            "name": "2021-01-16",
            "count": 4
           },
           {
            "name": "2020-09-13",
            "count": 1
           }
          ]
         }
        },
        {
         "name": "moneda",
         "dtype": "int64",
         "stats": {
          "unique_count": 1,
          "nan_count": 0,
          "min": "1",
          "max": "1",
          "histogram": [
           {
            "bin_start": 0.5,
            "bin_end": 0.6,
            "count": 0
           },
           {
            "bin_start": 0.6,
            "bin_end": 0.7,
            "count": 0
           },
           {
            "bin_start": 0.7,
            "bin_end": 0.8,
            "count": 0
           },
           {
            "bin_start": 0.8,
            "bin_end": 0.9,
            "count": 0
           },
           {
            "bin_start": 0.9,
            "bin_end": 1,
            "count": 0
           },
           {
            "bin_start": 1,
            "bin_end": 1.1,
            "count": 5
           },
           {
            "bin_start": 1.1,
            "bin_end": 1.2000000000000002,
            "count": 0
           },
           {
            "bin_start": 1.2000000000000002,
            "bin_end": 1.3,
            "count": 0
           },
           {
            "bin_start": 1.3,
            "bin_end": 1.4,
            "count": 0
           },
           {
            "bin_start": 1.4,
            "bin_end": 1.5,
            "count": 0
           }
          ]
         }
        },
        {
         "name": "importe_md",
         "dtype": "float64",
         "stats": {
          "unique_count": 5,
          "nan_count": 0,
          "min": "-22274.69",
          "max": "22274.69",
          "histogram": [
           {
            "bin_start": -22274.69,
            "bin_end": -17819.752,
            "count": 1
           },
           {
            "bin_start": -17819.752,
            "bin_end": -13364.813999999998,
            "count": 0
           },
           {
            "bin_start": -13364.813999999998,
            "bin_end": -8909.875999999998,
            "count": 0
           },
           {
            "bin_start": -8909.875999999998,
            "bin_end": -4454.937999999998,
            "count": 0
           },
           {
            "bin_start": -4454.937999999998,
            "bin_end": 3.637978807091713e-12,
            "count": 1
           },
           {
            "bin_start": 3.637978807091713e-12,
            "bin_end": 4454.938000000002,
            "count": 1
           },
           {
            "bin_start": 4454.938000000002,
            "bin_end": 8909.876,
            "count": 1
           },
           {
            "bin_start": 8909.876,
            "bin_end": 13364.814000000002,
            "count": 0
           },
           {
            "bin_start": 13364.814000000002,
            "bin_end": 17819.752000000004,
            "count": 0
           },
           {
            "bin_start": 17819.752000000004,
            "bin_end": 22274.69,
            "count": 1
           }
          ]
         }
        },
        {
         "name": "importe_ml",
         "dtype": "float64",
         "stats": {
          "unique_count": 5,
          "nan_count": 0,
          "min": "-80010.69",
          "max": "80010.69",
          "histogram": [
           {
            "bin_start": -80010.69,
            "bin_end": -64008.552,
            "count": 1
           },
           {
            "bin_start": -64008.552,
            "bin_end": -48006.414000000004,
            "count": 0
           },
           {
            "bin_start": -48006.414000000004,
            "bin_end": -32004.275999999998,
            "count": 0
           },
           {
            "bin_start": -32004.275999999998,
            "bin_end": -16002.137999999999,
            "count": 0
           },
           {
            "bin_start": -16002.137999999999,
            "bin_end": 0,
            "count": 1
           },
           {
            "bin_start": 0,
            "bin_end": 16002.138000000006,
            "count": 1
           },
           {
            "bin_start": 16002.138000000006,
            "bin_end": 32004.275999999998,
            "count": 1
           },
           {
            "bin_start": 32004.275999999998,
            "bin_end": 48006.414000000004,
            "count": 0
           },
           {
            "bin_start": 48006.414000000004,
            "bin_end": 64008.551999999996,
            "count": 0
           },
           {
            "bin_start": 64008.551999999996,
            "bin_end": 80010.69,
            "count": 1
           }
          ]
         }
        },
        {
         "name": "clave_fact",
         "dtype": "int64",
         "stats": {
          "unique_count": 2,
          "nan_count": 0,
          "min": "1",
          "max": "11",
          "histogram": [
           {
            "bin_start": 1,
            "bin_end": 2,
            "count": 3
           },
           {
            "bin_start": 2,
            "bin_end": 3,
            "count": 0
           },
           {
            "bin_start": 3,
            "bin_end": 4,
            "count": 0
           },
           {
            "bin_start": 4,
            "bin_end": 5,
            "count": 0
           },
           {
            "bin_start": 5,
            "bin_end": 6,
            "count": 0
           },
           {
            "bin_start": 6,
            "bin_end": 7,
            "count": 0
           },
           {
            "bin_start": 7,
            "bin_end": 8,
            "count": 0
           },
           {
            "bin_start": 8,
            "bin_end": 9,
            "count": 0
           },
           {
            "bin_start": 9,
            "bin_end": 10,
            "count": 0
           },
           {
            "bin_start": 10,
            "bin_end": 11,
            "count": 2
           }
          ]
         }
        },
        {
         "name": "f_pago",
         "dtype": "object",
         "stats": {
          "unique_count": 2,
          "nan_count": 0,
          "categories": [
           {
            "name": "2021-01-07",
            "count": 4
           },
           {
            "name": "2020-09-17",
            "count": 1
           }
          ]
         }
        },
        {
         "name": "demora_dias",
         "dtype": "int64",
         "stats": {
          "unique_count": 2,
          "nan_count": 0,
          "min": "-9",
          "max": "4",
          "histogram": [
           {
            "bin_start": -9,
            "bin_end": -7.7,
            "count": 4
           },
           {
            "bin_start": -7.7,
            "bin_end": -6.4,
            "count": 0
           },
           {
            "bin_start": -6.4,
            "bin_end": -5.1,
            "count": 0
           },
           {
            "bin_start": -5.1,
            "bin_end": -3.8,
            "count": 0
           },
           {
            "bin_start": -3.8,
            "bin_end": -2.5,
            "count": 0
           },
           {
            "bin_start": -2.5,
            "bin_end": -1.1999999999999993,
            "count": 0
           },
           {
            "bin_start": -1.1999999999999993,
            "bin_end": 0.09999999999999964,
            "count": 0
           },
           {
            "bin_start": 0.09999999999999964,
            "bin_end": 1.4000000000000004,
            "count": 0
           },
           {
            "bin_start": 1.4000000000000004,
            "bin_end": 2.700000000000001,
            "count": 0
           },
           {
            "bin_start": 2.700000000000001,
            "bin_end": 4,
            "count": 1
           }
          ]
         }
        },
        {
         "name": "emision_mes",
         "dtype": "int64",
         "stats": {
          "unique_count": 2,
          "nan_count": 0,
          "min": "8",
          "max": "12",
          "histogram": [
           {
            "bin_start": 8,
            "bin_end": 8.4,
            "count": 1
           },
           {
            "bin_start": 8.4,
            "bin_end": 8.8,
            "count": 0
           },
           {
            "bin_start": 8.8,
            "bin_end": 9.2,
            "count": 0
           },
           {
            "bin_start": 9.2,
            "bin_end": 9.6,
            "count": 0
           },
           {
            "bin_start": 9.6,
            "bin_end": 10,
            "count": 0
           },
           {
            "bin_start": 10,
            "bin_end": 10.4,
            "count": 0
           },
           {
            "bin_start": 10.4,
            "bin_end": 10.8,
            "count": 0
           },
           {
            "bin_start": 10.8,
            "bin_end": 11.2,
            "count": 0
           },
           {
            "bin_start": 11.2,
            "bin_end": 11.6,
            "count": 0
           },
           {
            "bin_start": 11.6,
            "bin_end": 12,
            "count": 4
           }
          ]
         }
        },
        {
         "name": "emision_dia",
         "dtype": "int64",
         "stats": {
          "unique_count": 2,
          "nan_count": 0,
          "min": "13",
          "max": "16",
          "histogram": [
           {
            "bin_start": 13,
            "bin_end": 13.3,
            "count": 1
           },
           {
            "bin_start": 13.3,
            "bin_end": 13.6,
            "count": 0
           },
           {
            "bin_start": 13.6,
            "bin_end": 13.9,
            "count": 0
           },
           {
            "bin_start": 13.9,
            "bin_end": 14.2,
            "count": 0
           },
           {
            "bin_start": 14.2,
            "bin_end": 14.5,
            "count": 0
           },
           {
            "bin_start": 14.5,
            "bin_end": 14.8,
            "count": 0
           },
           {
            "bin_start": 14.8,
            "bin_end": 15.1,
            "count": 0
           },
           {
            "bin_start": 15.1,
            "bin_end": 15.4,
            "count": 0
           },
           {
            "bin_start": 15.4,
            "bin_end": 15.7,
            "count": 0
           },
           {
            "bin_start": 15.7,
            "bin_end": 16,
            "count": 4
           }
          ]
         }
        },
        {
         "name": "pago_mes",
         "dtype": "int64",
         "stats": {
          "unique_count": 2,
          "nan_count": 0,
          "min": "1",
          "max": "9",
          "histogram": [
           {
            "bin_start": 1,
            "bin_end": 1.8,
            "count": 4
           },
           {
            "bin_start": 1.8,
            "bin_end": 2.6,
            "count": 0
           },
           {
            "bin_start": 2.6,
            "bin_end": 3.4000000000000004,
            "count": 0
           },
           {
            "bin_start": 3.4000000000000004,
            "bin_end": 4.2,
            "count": 0
           },
           {
            "bin_start": 4.2,
            "bin_end": 5,
            "count": 0
           },
           {
            "bin_start": 5,
            "bin_end": 5.800000000000001,
            "count": 0
           },
           {
            "bin_start": 5.800000000000001,
            "bin_end": 6.6000000000000005,
            "count": 0
           },
           {
            "bin_start": 6.6000000000000005,
            "bin_end": 7.4,
            "count": 0
           },
           {
            "bin_start": 7.4,
            "bin_end": 8.2,
            "count": 0
           },
           {
            "bin_start": 8.2,
            "bin_end": 9,
            "count": 1
           }
          ]
         }
        },
        {
         "name": "pago_dia",
         "dtype": "int64",
         "stats": {
          "unique_count": 2,
          "nan_count": 0,
          "min": "7",
          "max": "17",
          "histogram": [
           {
            "bin_start": 7,
            "bin_end": 8,
            "count": 4
           },
           {
            "bin_start": 8,
            "bin_end": 9,
            "count": 0
           },
           {
            "bin_start": 9,
            "bin_end": 10,
            "count": 0
           },
           {
            "bin_start": 10,
            "bin_end": 11,
            "count": 0
           },
           {
            "bin_start": 11,
            "bin_end": 12,
            "count": 0
           },
           {
            "bin_start": 12,
            "bin_end": 13,
            "count": 0
           },
           {
            "bin_start": 13,
            "bin_end": 14,
            "count": 0
           },
           {
            "bin_start": 14,
            "bin_end": 15,
            "count": 0
           },
           {
            "bin_start": 15,
            "bin_end": 16,
            "count": 0
           },
           {
            "bin_start": 16,
            "bin_end": 17,
            "count": 1
           }
          ]
         }
        },
        {
         "name": "_deepnote_index_column",
         "dtype": "int64"
        }
       ],
       "rows_top": [
        {
         "cliente": 1,
         "condi_pago": 30,
         "codigo_fact": 403010687,
         "clase_fact": "RV",
         "f_emision": "2020-08-13",
         "f_vencimento": "2020-09-13",
         "moneda": 1,
         "importe_md": 5395,
         "importe_ml": 19249.36,
         "clave_fact": 1,
         "f_pago": "2020-09-17",
         "demora_dias": 4,
         "emision_mes": 8,
         "emision_dia": 13,
         "pago_mes": 9,
         "pago_dia": 17,
         "_deepnote_index_column": 0
        },
        {
         "cliente": 1,
         "condi_pago": 30,
         "codigo_fact": 403020326,
         "clase_fact": "RV",
         "f_emision": "2020-12-16",
         "f_vencimento": "2021-01-16",
         "moneda": 1,
         "importe_md": 22274.69,
         "importe_ml": 80010.69,
         "clave_fact": 1,
         "f_pago": "2021-01-07",
         "demora_dias": -9,
         "emision_mes": 12,
         "emision_dia": 16,
         "pago_mes": 1,
         "pago_dia": 7,
         "_deepnote_index_column": 1
        },
        {
         "cliente": 1,
         "condi_pago": 30,
         "codigo_fact": 403020327,
         "clase_fact": "RV",
         "f_emision": "2020-12-16",
         "f_vencimento": "2021-01-16",
         "moneda": 1,
         "importe_md": 39.4,
         "importe_ml": 141.52,
         "clave_fact": 1,
         "f_pago": "2021-01-07",
         "demora_dias": -9,
         "emision_mes": 12,
         "emision_dia": 16,
         "pago_mes": 1,
         "pago_dia": 7,
         "_deepnote_index_column": 2
        },
        {
         "cliente": 1,
         "condi_pago": 30,
         "codigo_fact": 710001381,
         "clase_fact": "RW",
         "f_emision": "2020-12-16",
         "f_vencimento": "2021-01-16",
         "moneda": 1,
         "importe_md": -22274.69,
         "importe_ml": -80010.69,
         "clave_fact": 11,
         "f_pago": "2021-01-07",
         "demora_dias": -9,
         "emision_mes": 12,
         "emision_dia": 16,
         "pago_mes": 1,
         "pago_dia": 7,
         "_deepnote_index_column": 3
        },
        {
         "cliente": 1,
         "condi_pago": 30,
         "codigo_fact": 710001382,
         "clase_fact": "RW",
         "f_emision": "2020-12-16",
         "f_vencimento": "2021-01-16",
         "moneda": 1,
         "importe_md": -39.4,
         "importe_ml": -141.52,
         "clave_fact": 11,
         "f_pago": "2021-01-07",
         "demora_dias": -9,
         "emision_mes": 12,
         "emision_dia": 16,
         "pago_mes": 1,
         "pago_dia": 7,
         "_deepnote_index_column": 4
        }
       ],
       "rows_bottom": null
      },
      "text/plain": "   cliente  condi_pago  codigo_fact clase_fact   f_emision f_vencimento  \\\n0        1          30    403010687         RV  2020-08-13   2020-09-13   \n1        1          30    403020326         RV  2020-12-16   2021-01-16   \n2        1          30    403020327         RV  2020-12-16   2021-01-16   \n3        1          30    710001381         RW  2020-12-16   2021-01-16   \n4        1          30    710001382         RW  2020-12-16   2021-01-16   \n\n   moneda  importe_md  importe_ml  clave_fact      f_pago  demora_dias  \\\n0       1     5395.00    19249.36           1  2020-09-17            4   \n1       1    22274.69    80010.69           1  2021-01-07           -9   \n2       1       39.40      141.52           1  2021-01-07           -9   \n3       1   -22274.69   -80010.69          11  2021-01-07           -9   \n4       1      -39.40     -141.52          11  2021-01-07           -9   \n\n   emision_mes  emision_dia  pago_mes  pago_dia  \n0            8           13         9        17  \n1           12           16         1         7  \n2           12           16         1         7  \n3           12           16         1         7  \n4           12           16         1         7  ",
      "text/html": "<div>\n<style scoped>\n    .dataframe tbody tr th:only-of-type {\n        vertical-align: middle;\n    }\n\n    .dataframe tbody tr th {\n        vertical-align: top;\n    }\n\n    .dataframe thead th {\n        text-align: right;\n    }\n</style>\n<table border=\"1\" class=\"dataframe\">\n  <thead>\n    <tr style=\"text-align: right;\">\n      <th></th>\n      <th>cliente</th>\n      <th>condi_pago</th>\n      <th>codigo_fact</th>\n      <th>clase_fact</th>\n      <th>f_emision</th>\n      <th>f_vencimento</th>\n      <th>moneda</th>\n      <th>importe_md</th>\n      <th>importe_ml</th>\n      <th>clave_fact</th>\n      <th>f_pago</th>\n      <th>demora_dias</th>\n      <th>emision_mes</th>\n      <th>emision_dia</th>\n      <th>pago_mes</th>\n      <th>pago_dia</th>\n    </tr>\n  </thead>\n  <tbody>\n    <tr>\n      <th>0</th>\n      <td>1</td>\n      <td>30</td>\n      <td>403010687</td>\n      <td>RV</td>\n      <td>2020-08-13</td>\n      <td>2020-09-13</td>\n      <td>1</td>\n      <td>5395.00</td>\n      <td>19249.36</td>\n      <td>1</td>\n      <td>2020-09-17</td>\n      <td>4</td>\n      <td>8</td>\n      <td>13</td>\n      <td>9</td>\n      <td>17</td>\n    </tr>\n    <tr>\n      <th>1</th>\n      <td>1</td>\n      <td>30</td>\n      <td>403020326</td>\n      <td>RV</td>\n      <td>2020-12-16</td>\n      <td>2021-01-16</td>\n      <td>1</td>\n      <td>22274.69</td>\n      <td>80010.69</td>\n      <td>1</td>\n      <td>2021-01-07</td>\n      <td>-9</td>\n      <td>12</td>\n      <td>16</td>\n      <td>1</td>\n      <td>7</td>\n    </tr>\n    <tr>\n      <th>2</th>\n      <td>1</td>\n      <td>30</td>\n      <td>403020327</td>\n      <td>RV</td>\n      <td>2020-12-16</td>\n      <td>2021-01-16</td>\n      <td>1</td>\n      <td>39.40</td>\n      <td>141.52</td>\n      <td>1</td>\n      <td>2021-01-07</td>\n      <td>-9</td>\n      <td>12</td>\n      <td>16</td>\n      <td>1</td>\n      <td>7</td>\n    </tr>\n    <tr>\n      <th>3</th>\n      <td>1</td>\n      <td>30</td>\n      <td>710001381</td>\n      <td>RW</td>\n      <td>2020-12-16</td>\n      <td>2021-01-16</td>\n      <td>1</td>\n      <td>-22274.69</td>\n      <td>-80010.69</td>\n      <td>11</td>\n      <td>2021-01-07</td>\n      <td>-9</td>\n      <td>12</td>\n      <td>16</td>\n      <td>1</td>\n      <td>7</td>\n    </tr>\n    <tr>\n      <th>4</th>\n      <td>1</td>\n      <td>30</td>\n      <td>710001382</td>\n      <td>RW</td>\n      <td>2020-12-16</td>\n      <td>2021-01-16</td>\n      <td>1</td>\n      <td>-39.40</td>\n      <td>-141.52</td>\n      <td>11</td>\n      <td>2021-01-07</td>\n      <td>-9</td>\n      <td>12</td>\n      <td>16</td>\n      <td>1</td>\n      <td>7</td>\n    </tr>\n  </tbody>\n</table>\n</div>"
     },
     "metadata": {}
    }
   ]
  },
  {
   "cell_type": "code",
   "metadata": {
    "tags": [],
    "cell_id": "00004-2bfa9004-312a-4f2b-968e-c2cc01731e07",
    "deepnote_cell_type": "code"
   },
   "source": "",
   "execution_count": null,
   "outputs": []
  },
  {
   "cell_type": "markdown",
   "source": "<a style='text-decoration:none;line-height:16px;display:flex;color:#5B5B62;padding:10px;justify-content:end;' href='https://deepnote.com?utm_source=created-in-deepnote-cell&projectId=a6589296-3b43-4307-8ef9-80a63472cea6' target=\"_blank\">\n<img alt='Created in deepnote.com' style='display:inline;max-height:16px;margin:0px;margin-right:7.5px;' src='data:image/svg+xml;base64,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' > </img>\nCreated in <span style='font-weight:600;margin-left:4px;'>Deepnote</span></a>",
   "metadata": {
    "tags": [],
    "created_in_deepnote_cell": true,
    "deepnote_cell_type": "markdown"
   }
  }
 ],
 "nbformat": 4,
 "nbformat_minor": 2,
 "metadata": {
  "orig_nbformat": 2,
  "deepnote": {
   "is_reactive": false
  },
  "deepnote_notebook_id": "4f2c09e5-56b7-433b-b020-27192948f61b",
  "deepnote_execution_queue": []
 }
}